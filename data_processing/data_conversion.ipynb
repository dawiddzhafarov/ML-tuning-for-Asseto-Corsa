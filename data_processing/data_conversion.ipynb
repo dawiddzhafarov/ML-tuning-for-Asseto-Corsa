{
  "nbformat": 4,
  "nbformat_minor": 0,
  "metadata": {
    "colab": {
      "provenance": []
    },
    "kernelspec": {
      "name": "python3",
      "display_name": "Python 3"
    },
    "language_info": {
      "name": "python"
    }
  },
  "cells": [
    {
      "cell_type": "markdown",
      "source": [
        "# Google Drive\n",
        "Attach Google Drive to store saved CSV files."
      ],
      "metadata": {
        "id": "Xgs7L-v4hrtD"
      }
    },
    {
      "cell_type": "markdown",
      "source": [
        "# Repos\n",
        "Firstly clone ldparser and main repository with data."
      ],
      "metadata": {
        "id": "RgeuZ7MohcIO"
      }
    },
    {
      "cell_type": "code",
      "execution_count": null,
      "metadata": {
        "colab": {
          "base_uri": "https://localhost:8080/"
        },
        "id": "V_9cnPUL-uBB",
        "outputId": "0f76a764-1580-4249-b6fd-e9cd98adcb83"
      },
      "outputs": [
        {
          "output_type": "stream",
          "name": "stdout",
          "text": [
            "Cloning into 'ldparser'...\n",
            "remote: Enumerating objects: 75, done.\u001b[K\n",
            "remote: Counting objects: 100% (35/35), done.\u001b[K\n",
            "remote: Compressing objects: 100% (30/30), done.\u001b[K\n",
            "remote: Total 75 (delta 17), reused 14 (delta 4), pack-reused 40\u001b[K\n",
            "Receiving objects: 100% (75/75), 39.71 KiB | 13.24 MiB/s, done.\n",
            "Resolving deltas: 100% (37/37), done.\n"
          ]
        }
      ],
      "source": [
        "!git clone https://github.com/gotzl/ldparser.git"
      ]
    },
    {
      "cell_type": "code",
      "source": [
        "!git clone https://github.com/dawiddzhafarov/ML-tuning-for-Asseto-Corsa.git"
      ],
      "metadata": {
        "colab": {
          "base_uri": "https://localhost:8080/"
        },
        "id": "E1wzarBNncsb",
        "outputId": "5e3f58c8-fe33-4e1c-add6-eec194a153eb"
      },
      "execution_count": null,
      "outputs": [
        {
          "output_type": "stream",
          "name": "stdout",
          "text": [
            "Cloning into 'ML-tuning-for-Asseto-Corsa'...\n",
            "remote: Enumerating objects: 2640, done.\u001b[K\n",
            "remote: Counting objects: 100% (615/615), done.\u001b[K\n",
            "remote: Compressing objects: 100% (88/88), done.\u001b[K\n",
            "remote: Total 2640 (delta 528), reused 605 (delta 527), pack-reused 2025\u001b[K\n",
            "Receiving objects: 100% (2640/2640), 326.86 MiB | 20.86 MiB/s, done.\n",
            "Resolving deltas: 100% (1771/1771), done.\n",
            "Updating files: 100% (2959/2959), done.\n"
          ]
        }
      ]
    },
    {
      "cell_type": "markdown",
      "source": [
        "# Imports\n",
        "## Import neccessary dependencies and libraries."
      ],
      "metadata": {
        "id": "GMAIb1fih6Ns"
      }
    },
    {
      "cell_type": "code",
      "source": [
        "import os\n",
        "import pandas as pd\n",
        "import numpy as np"
      ],
      "metadata": {
        "id": "Gbef9YLQE2DV"
      },
      "execution_count": null,
      "outputs": []
    },
    {
      "cell_type": "markdown",
      "source": [
        "## Change directory and import ldData class from ldparser."
      ],
      "metadata": {
        "id": "1sh75Q3biL5n"
      }
    },
    {
      "cell_type": "code",
      "source": [
        "os.chdir('ldparser/')\n",
        "from ldparser import ldData"
      ],
      "metadata": {
        "id": "MUJr-JoNiJ4F"
      },
      "execution_count": null,
      "outputs": []
    },
    {
      "cell_type": "markdown",
      "source": [
        "# Data conversion\n",
        "## Function that reads raw data and parses it into pd.DataFrame, then saves it to CSV file.\n",
        "### `subdir` is the name of directory of data category (i.e., \"aero\"), `start` is the starting index in the filename, `end` is the ending index in the filename."
      ],
      "metadata": {
        "id": "-unqiTW2ijpH"
      }
    },
    {
      "cell_type": "code",
      "source": [
        "def create_csv(subdir, start, end):\n",
        "  for i in range(start, end+1):\n",
        "    path = '../ML-tuning-for-Asseto-Corsa/raw_data/{}/ks_vallelunga_&_lotus_exos_125_&_Cassini_&_stint_{}.ld'.format(subdir, i) # path to file\n",
        "    l = ldData.fromfile(path) # load data\n",
        "    df = pd.DataFrame(data={c: l[c].data for c in l}) # create data frame\n",
        "    df.to_csv('../drive/MyDrive/{}/{}.csv'.format(subdir, i), index=True) # convert to csv"
      ],
      "metadata": {
        "id": "naYvWMgZ_hj1"
      },
      "execution_count": null,
      "outputs": []
    },
    {
      "cell_type": "markdown",
      "source": [
        "# Conversion code snippets"
      ],
      "metadata": {
        "id": "bXeKvp0vkBsE"
      }
    },
    {
      "cell_type": "code",
      "source": [
        "create_csv('aero', 159, 326)\n",
        "create_csv('alignment', 327, 398)\n",
        "create_csv('dampers/both', 529, 542)\n",
        "create_csv('dampers/front', 399, 463)\n",
        "create_csv('dampers/rear', 464, 528)\n",
        "create_csv('electronics and fuel', 117, 158)\n",
        "create_csv('gears', 1, 56)\n",
        "create_csv('suspension', 1042, 1091)\n",
        "create_csv('suspension_adv', 1092, 1156)\n",
        "create_csv('tires pressure', 57, 116)\n",
        "\n",
        "create_csv('drivetrain/diff_coast_10', 560, 576)\n",
        "create_csv('drivetrain/diff_coast_15', 577, 593)\n",
        "create_csv('drivetrain/diff_coast_20', 543, 559)\n",
        "create_csv('drivetrain/diff_coast_25', 594, 610)\n",
        "create_csv('drivetrain/diff_coast_30', 611, 627)\n",
        "create_csv('drivetrain/diff_coast_35', 628, 644)\n",
        "create_csv('drivetrain/diff_coast_40', 645, 661)\n",
        "create_csv('drivetrain/diff_coast_45', 662, 678)\n",
        "create_csv('drivetrain/diff_coast_50', 679, 695)\n",
        "create_csv('drivetrain/diff_coast_55', 696, 712)\n",
        "create_csv('drivetrain/diff_coast_60', 713, 729)\n",
        "create_csv('drivetrain/diff_coast_65', 730, 746)\n",
        "create_csv('drivetrain/diff_coast_70', 747, 763)\n",
        "create_csv('drivetrain/diff_coast_75', 764, 780)\n",
        "create_csv('drivetrain/diff_coast_80', 781, 797)\n",
        "create_csv('drivetrain/diff_coast_85', 798, 814)\n",
        "create_csv('drivetrain/diff_coast_90', 815, 831)\n",
        "\n",
        "create_csv('generic/brake_bias_52', 832, 852)\n",
        "create_csv('generic/brake_bias_53', 853, 873)\n",
        "create_csv('generic/brake_bias_54', 874, 894)\n",
        "create_csv('generic/brake_bias_55', 895, 915)\n",
        "create_csv('generic/brake_bias_58', 916, 936)\n",
        "create_csv('generic/brake_bias_60', 937, 957)\n",
        "create_csv('generic/brake_bias_62', 958, 978)\n",
        "create_csv('generic/brake_bias_64', 979, 999)\n",
        "create_csv('generic/brake_bias_66', 1000, 1020)\n",
        "create_csv('generic/brake_bias_68', 1021, 1041)"
      ],
      "metadata": {
        "id": "erIf5RXSpFRc"
      },
      "execution_count": null,
      "outputs": []
    }
  ]
}